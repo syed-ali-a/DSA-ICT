{
 "cells": [
  {
   "cell_type": "code",
   "execution_count": 21,
   "metadata": {},
   "outputs": [
    {
     "name": "stdout",
     "output_type": "stream",
     "text": [
      "apple * 2 = 100\n",
      "orange * 9 = 405\n",
      "milk * 2 = 60\n",
      "your grand total is 565\n"
     ]
    }
   ],
   "source": [
    "# Grocery Store Bill Calculator \n",
    "# A grocery store wants a program to calculate the total bill for a customer. \n",
    "# a. Store the prices of items in a dictionary (e.g., {'apple': 10, 'milk': 50}) \n",
    "# b. Take the items purchased and their quantities as input. \n",
    "# c. Calculate and display the total bill amount.\n",
    " \n",
    "#I just created a dictionary to store the products and its price  \n",
    "store_menu = {'apple':50,'orange':45,'milk':30,'carrot':35} \n",
    "\n",
    "#intialise a vraiabale grand total to sum\n",
    "grand_total = 0\n",
    "\n",
    "#asking customer how many number of  products you want to purchase\n",
    "number_items = int(input(\"enter the number of items you want to purchase\"))\n",
    "\n",
    "#created a for loop \n",
    "for i in range(number_items):\n",
    "    #created an input to ask which products they want to purchase\n",
    "    product = input(f\"enter your products {i+1} \").lower()\n",
    "    #created a condition to check whether product is in list\n",
    "    if product in store_menu:\n",
    "        #if the product is in list ask how many quantity you want fro each products\n",
    "        quantity = int(input(\"enter your quantity of prodcut\"))\n",
    "        #created a vraible to sum the cost\n",
    "        cost = store_menu[product]*quantity\n",
    "        #each product cost is added with grand total\n",
    "        grand_total = grand_total + cost\n",
    "    print(f'{product} * {quantity} = {cost}') \n",
    "    \n",
    "    \n",
    "print(f'your grand total is {grand_total}')   \n",
    "\n",
    "\n",
    "\n",
    "\n",
    "\n",
    "\n",
    "\n",
    "\n"
   ]
  },
  {
   "cell_type": "code",
   "execution_count": null,
   "metadata": {},
   "outputs": [
    {
     "name": "stdout",
     "output_type": "stream",
     "text": [
      "your average is 66.0\n",
      "your grade is c\n"
     ]
    }
   ],
   "source": [
    "\n",
    "#c. Display the average and the grade.\n",
    "#Student Grade Calculator \n",
    "#A teacher wants a program to calculate grades for students based on their marks. \n",
    "#a. Store marks for 5 subjects in a list. \n",
    "#b. Calculate the average and determine the grade: \n",
    "#o 90+ -> A \n",
    "#o 70-89 -> B \n",
    "#o 50-69 -> C \n",
    "#o <50 -> F \n",
    "#first i stored all the marks in a list\n",
    "marks = [45,50,65,80,90]\n",
    "#then i created a variable to store the average\n",
    "average = sum(marks) / len(marks)\n",
    "#I created a condition using elif\n",
    "if average >= 90:\n",
    "    grade = 'A'\n",
    "elif average >= 70:\n",
    "    grade = 'B'\n",
    "elif average >= 50:\n",
    "    grade = \"c\"\n",
    "else:\n",
    "    grade = 'F'\n",
    "print(f'your average is {average}')\n",
    "print(f'your grade is {grade}')    \n",
    "\n",
    "\n"
   ]
  },
  {
   "cell_type": "code",
   "execution_count": null,
   "metadata": {},
   "outputs": [
    {
     "name": "stdout",
     "output_type": "stream",
     "text": [
      "you have booked seat 2 and the available seat is [1, 3, 4, 5, 6, 7, 8, 9, 10, 11, 12, 13, 14, 15, 16, 17, 18, 19, 20]\n"
     ]
    }
   ],
   "source": [
    "# A movie theatre wants to automate ticket booking for customers. \n",
    "# a. Use a list to store the available seats (e.g., [1, 2, 3, ..., 20]). \n",
    "# b. Allow the customer to book a seat by entering the seat number. \n",
    "# c. After booking, remove the seat from the list of available seats. \n",
    "# d. Display the remaining available seats\n",
    "\n",
    "#i stored the seat numbers in a list\n",
    "seats_available = [1,2,3,4,5,6,7,8,9,10,11,12,13,14,15,16,17,18,19,20]\n",
    "#i created a input to ask customer how many seats you want to book\n",
    "number_seats = int(input(\"enter the number of seats that you want to book : \"))\n",
    "#i craeted a for loop to run code multiple times\n",
    "for i in  range(number_seats):\n",
    "   #i created a input to customer to choose seats\n",
    "    booking = int(input(f\"book your seats {i +1} \"))\n",
    "    #i created a condition to checks the enetrered seat is availalble or not\n",
    "    if booking  in (seats_available):\n",
    "       seats_available.remove(booking)\n",
    "       print(f\"you have booked seat {booking} and the available seat is {seats_available}\")\n",
    "    else:  \n",
    "       print('this seat is not avaialable')\n",
    "\n",
    "\n"
   ]
  },
  {
   "cell_type": "code",
   "execution_count": null,
   "metadata": {},
   "outputs": [],
   "source": []
  }
 ],
 "metadata": {
  "kernelspec": {
   "display_name": "pro1",
   "language": "python",
   "name": "python3"
  },
  "language_info": {
   "codemirror_mode": {
    "name": "ipython",
    "version": 3
   },
   "file_extension": ".py",
   "mimetype": "text/x-python",
   "name": "python",
   "nbconvert_exporter": "python",
   "pygments_lexer": "ipython3",
   "version": "3.13.0"
  }
 },
 "nbformat": 4,
 "nbformat_minor": 2
}
